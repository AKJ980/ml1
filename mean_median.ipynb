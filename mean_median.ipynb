{
  "metadata": {
    "kernelspec": {
      "name": "python",
      "display_name": "Python (Pyodide)",
      "language": "python"
    },
    "language_info": {
      "codemirror_mode": {
        "name": "python",
        "version": 3
      },
      "file_extension": ".py",
      "mimetype": "text/x-python",
      "name": "python",
      "nbconvert_exporter": "python",
      "pygments_lexer": "ipython3",
      "version": "3.8"
    }
  },
  "nbformat_minor": 5,
  "nbformat": 4,
  "cells": [
    {
      "id": "b6cf0a9d-04fb-447c-8afe-3cdcfee010a0",
      "cell_type": "code",
      "source": "import numpy as np\nimport pandas as pd\n\narr = np.array([115.3, 195.5, 120.5, 110.2, 90.4,\n                105.6, 110.9, 116.3, 122.3, 125.4])\n\n# Basic statistics\nmean = arr.mean()\nmedian = np.median(arr)\nmode = pd.Series(arr).mode()[0]\nstd = arr.std(ddof=0)\nvar = arr.var(ddof=0)\n\nprint(\"Mean:\", mean)\nprint(\"Median:\", median)\nprint(\"Mode:\", mode)\nprint(\"Std Dev:\", std)\nprint(\"Variance:\", var)\n\n# Min-max normalization\nnorm = (arr - arr.min()) / (arr.max() - arr.min())\nprint(\"Min-Max Normalization:\", norm)\n\n# Standardization\nstdz = (arr - mean) / std\nprint(\"Standardization:\", stdz)",
      "metadata": {
        "trusted": true
      },
      "outputs": [],
      "execution_count": null
    }
  ]
}