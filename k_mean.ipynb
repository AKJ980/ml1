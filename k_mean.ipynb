{
  "metadata": {
    "kernelspec": {
      "name": "python",
      "display_name": "Python (Pyodide)",
      "language": "python"
    },
    "language_info": {
      "codemirror_mode": {
        "name": "python",
        "version": 3
      },
      "file_extension": ".py",
      "mimetype": "text/x-python",
      "name": "python",
      "nbconvert_exporter": "python",
      "pygments_lexer": "ipython3",
      "version": "3.8"
    }
  },
  "nbformat_minor": 5,
  "nbformat": 4,
  "cells": [
    {
      "id": "4eeb7f15-be43-4485-bcdc-5e067887adc7",
      "cell_type": "code",
      "source": "import numpy as np\n\n# Data points (X) and initial centers (C)\nX = np.array([[5.9,3.2],[4.6,2.9],[6.2,2.8],[4.7,3.2],\n             [5.5,4.2],[5.0,3.0],[4.9,3.1],[6.7,3.1],\n             [5.1,3.8],[6.0,3.0]])\nC = np.array([[6.2,3.2],[6.6,3.7],[6.5,3.0]])  # Initial centers\n\nfor i in range(100):  # Max iterations\n    # Assign points to nearest center\n    D = np.sqrt(((X[:,None] - C)**2).sum(axis=2))  # Euclidean distances\n    L = np.argmin(D, axis=1)  # Labels\n    \n    # Update centers\n    new_C = np.array([X[L==k].mean(axis=0) for k in range(3)])\n    \n    # Check convergence\n    if np.allclose(C, new_C):\n        print(f\"Converged in {i+1} iterations\")\n        break\n    C = new_C\n    \n    # Print requested info\n    if i == 0: print(f\"After 1 iteration (red): {np.round(C[0], 3)}\")\n    if i == 1: print(f\"After 2 iterations (green): {np.round(C[1], 3)}\")\n\nprint(f\"Final center (blue): {np.round(C[2], 3)}\")\n",
      "metadata": {
        "trusted": true
      },
      "outputs": [
        {
          "name": "stdout",
          "output_type": "stream",
          "text": "After 1 iteration (red): [5.171 3.171]\nAfter 2 iterations (green): [5.3 4. ]\nConverged in 3 iterations\nFinal center (blue): [6.2   3.025]\n"
        }
      ],
      "execution_count": 1
    },
    {
      "id": "7d821ccd-18ed-4720-9092-ea53ed13297d",
      "cell_type": "code",
      "source": "",
      "metadata": {
        "trusted": true
      },
      "outputs": [],
      "execution_count": null
    }
  ]
}