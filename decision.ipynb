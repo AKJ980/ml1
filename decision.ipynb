{
  "metadata": {
    "kernelspec": {
      "name": "python",
      "display_name": "Python (Pyodide)",
      "language": "python"
    },
    "language_info": {
      "codemirror_mode": {
        "name": "python",
        "version": 3
      },
      "file_extension": ".py",
      "mimetype": "text/x-python",
      "name": "python",
      "nbconvert_exporter": "python",
      "pygments_lexer": "ipython3",
      "version": "3.8"
    }
  },
  "nbformat_minor": 5,
  "nbformat": 4,
  "cells": [
    {
      "id": "07de7c9d-33fc-4e03-9a9c-8b9108bce3e7",
      "cell_type": "code",
      "source": "import pandas as pd\nfrom sklearn.tree import DecisionTreeClassifier\nfrom sklearn.model_selection import train_test_split\nfrom sklearn.metrics import classification_report, confusion_matrix\n\ndf = pd.read_csv(\"DecisionTree_zoo.csv\")\nprint(df.head())\nX, y = df.iloc[:, 1:-1], (df[\"class_type\"] == 1).astype(int)\nXtr, Xte, ytr, yte = train_test_split(X, y, test_size=0.3, random_state=42)\nm = DecisionTreeClassifier().fit(Xtr, ytr)\np = m.predict(Xte)\n\nprint(confusion_matrix(yte, p))\nprint(classification_report(yte, p))\n",
      "metadata": {
        "trusted": true
      },
      "outputs": [
        {
          "name": "stdout",
          "output_type": "stream",
          "text": "  animal_name  hair  feathers  eggs  milk  airborne  aquatic  predator  \\\n0    aardvark     1         0     0     1         0        0         1   \n1    antelope     1         0     0     1         0        0         0   \n2        bass     0         0     1     0         0        1         1   \n3        bear     1         0     0     1         0        0         1   \n4        boar     1         0     0     1         0        0         1   \n\n   toothed  backbone  breathes  venomous  fins  legs  tail  domestic  catsize  \\\n0        1         1         1         0     0     4     0         0        1   \n1        1         1         1         0     0     4     1         0        1   \n2        1         1         0         0     1     0     1         0        0   \n3        1         1         1         0     0     4     0         0        1   \n4        1         1         1         0     0     4     1         0        1   \n\n   class_type  \n0           1  \n1           1  \n2           4  \n3           1  \n4           1  \n[[16  0]\n [ 0 15]]\n              precision    recall  f1-score   support\n\n           0       1.00      1.00      1.00        16\n           1       1.00      1.00      1.00        15\n\n    accuracy                           1.00        31\n   macro avg       1.00      1.00      1.00        31\nweighted avg       1.00      1.00      1.00        31\n\n"
        }
      ],
      "execution_count": 7
    },
    {
      "id": "41f82acd-7252-4035-9c7c-821c6b1595d1",
      "cell_type": "code",
      "source": "",
      "metadata": {
        "trusted": true
      },
      "outputs": [],
      "execution_count": null
    }
  ]
}